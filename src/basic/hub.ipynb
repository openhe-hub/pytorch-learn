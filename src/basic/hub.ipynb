{
 "cells": [
  {
   "cell_type": "markdown",
   "source": [
    "## 了解： PyTorch 团队推出了 PyTorch Hub：一个简单的 API 和工作流程，为机器学习研究的复现提供了基础的构建模块。它由一个经过预先训练的模型存储库组成，专门设计用于协助研究的可复现性并实现新的研究。\n",
    "\n"
   ],
   "metadata": {
    "collapsed": false
   }
  }
 ],
 "metadata": {
  "kernelspec": {
   "display_name": "Python 3",
   "language": "python",
   "name": "python3"
  },
  "language_info": {
   "codemirror_mode": {
    "name": "ipython",
    "version": 2
   },
   "file_extension": ".py",
   "mimetype": "text/x-python",
   "name": "python",
   "nbconvert_exporter": "python",
   "pygments_lexer": "ipython2",
   "version": "2.7.6"
  }
 },
 "nbformat": 4,
 "nbformat_minor": 0
}
