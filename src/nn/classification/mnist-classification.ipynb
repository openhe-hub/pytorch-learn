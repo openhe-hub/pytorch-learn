{
 "cells": [
  {
   "cell_type": "code",
   "execution_count": 1,
   "outputs": [],
   "source": [
    "# params\n",
    "batch_size = 64\n",
    "learning_rate = 0.001\n",
    "epochs = 10"
   ],
   "metadata": {
    "collapsed": false
   }
  },
  {
   "cell_type": "code",
   "execution_count": 2,
   "outputs": [
    {
     "ename": "ValueError",
     "evalue": "invalid literal for int() with base 16: b''",
     "output_type": "error",
     "traceback": [
      "\u001B[1;31m---------------------------------------------------------------------------\u001B[0m",
      "\u001B[1;31mValueError\u001B[0m                                Traceback (most recent call last)",
      "Cell \u001B[1;32mIn[2], line 9\u001B[0m\n\u001B[0;32m      6\u001B[0m \u001B[38;5;28;01mimport\u001B[39;00m \u001B[38;5;21;01mnumpy\u001B[39;00m \u001B[38;5;28;01mas\u001B[39;00m \u001B[38;5;21;01mnp\u001B[39;00m\n\u001B[0;32m      7\u001B[0m \u001B[38;5;28;01mimport\u001B[39;00m \u001B[38;5;21;01mtorch\u001B[39;00m\n\u001B[1;32m----> 9\u001B[0m train_dataset \u001B[38;5;241m=\u001B[39m \u001B[43mtorchvision\u001B[49m\u001B[38;5;241;43m.\u001B[39;49m\u001B[43mdatasets\u001B[49m\u001B[38;5;241;43m.\u001B[39;49m\u001B[43mMNIST\u001B[49m\u001B[43m(\u001B[49m\u001B[43mroot\u001B[49m\u001B[38;5;241;43m=\u001B[39;49m\u001B[38;5;124;43m\"\u001B[39;49m\u001B[38;5;124;43m../../../assets/\u001B[39;49m\u001B[38;5;124;43m\"\u001B[39;49m\u001B[43m,\u001B[49m\u001B[43m \u001B[49m\u001B[43mtrain\u001B[49m\u001B[38;5;241;43m=\u001B[39;49m\u001B[38;5;28;43;01mTrue\u001B[39;49;00m\u001B[43m,\u001B[49m\u001B[43m \u001B[49m\u001B[43mdownload\u001B[49m\u001B[38;5;241;43m=\u001B[39;49m\u001B[38;5;28;43;01mTrue\u001B[39;49;00m\u001B[43m,\u001B[49m\n\u001B[0;32m     10\u001B[0m \u001B[43m                                           \u001B[49m\u001B[43mtransform\u001B[49m\u001B[38;5;241;43m=\u001B[39;49m\u001B[43mtorchvision\u001B[49m\u001B[38;5;241;43m.\u001B[39;49m\u001B[43mtransforms\u001B[49m\u001B[38;5;241;43m.\u001B[39;49m\u001B[43mCompose\u001B[49m\u001B[43m(\u001B[49m\u001B[43m[\u001B[49m\n\u001B[0;32m     11\u001B[0m \u001B[43m                                               \u001B[49m\u001B[43mtorchvision\u001B[49m\u001B[38;5;241;43m.\u001B[39;49m\u001B[43mtransforms\u001B[49m\u001B[38;5;241;43m.\u001B[39;49m\u001B[43mToTensor\u001B[49m\u001B[43m(\u001B[49m\u001B[43m)\u001B[49m\u001B[43m,\u001B[49m\u001B[43m  \u001B[49m\u001B[38;5;66;43;03m# 转换成张量\u001B[39;49;00m\n\u001B[0;32m     12\u001B[0m \u001B[43m                                               \u001B[49m\u001B[43mtorchvision\u001B[49m\u001B[38;5;241;43m.\u001B[39;49m\u001B[43mtransforms\u001B[49m\u001B[38;5;241;43m.\u001B[39;49m\u001B[43mNormalize\u001B[49m\u001B[43m(\u001B[49m\u001B[43m(\u001B[49m\u001B[38;5;241;43m0.1307\u001B[39;49m\u001B[43m,\u001B[49m\u001B[43m)\u001B[49m\u001B[43m,\u001B[49m\u001B[43m \u001B[49m\u001B[43m(\u001B[49m\u001B[38;5;241;43m0.3081\u001B[39;49m\u001B[43m,\u001B[49m\u001B[43m)\u001B[49m\u001B[43m)\u001B[49m\u001B[43m  \u001B[49m\u001B[38;5;66;43;03m# 标准化\u001B[39;49;00m\n\u001B[0;32m     13\u001B[0m \u001B[43m                                           \u001B[49m\u001B[43m]\u001B[49m\u001B[43m)\u001B[49m\u001B[43m)\u001B[49m\n\u001B[0;32m     14\u001B[0m train_loader \u001B[38;5;241m=\u001B[39m DataLoader(train_dataset, batch_size\u001B[38;5;241m=\u001B[39mbatch_size)\n\u001B[0;32m     15\u001B[0m test_dataset \u001B[38;5;241m=\u001B[39m torchvision\u001B[38;5;241m.\u001B[39mdatasets\u001B[38;5;241m.\u001B[39mMNIST(root\u001B[38;5;241m=\u001B[39m\u001B[38;5;124m\"\u001B[39m\u001B[38;5;124m../../../assets/\u001B[39m\u001B[38;5;124m\"\u001B[39m, train\u001B[38;5;241m=\u001B[39m\u001B[38;5;28;01mFalse\u001B[39;00m, download\u001B[38;5;241m=\u001B[39m\u001B[38;5;28;01mTrue\u001B[39;00m,\n\u001B[0;32m     16\u001B[0m                                           transform\u001B[38;5;241m=\u001B[39mtorchvision\u001B[38;5;241m.\u001B[39mtransforms\u001B[38;5;241m.\u001B[39mCompose([\n\u001B[0;32m     17\u001B[0m                                               torchvision\u001B[38;5;241m.\u001B[39mtransforms\u001B[38;5;241m.\u001B[39mToTensor(),  \u001B[38;5;66;03m# 转换成张量\u001B[39;00m\n\u001B[0;32m     18\u001B[0m                                               torchvision\u001B[38;5;241m.\u001B[39mtransforms\u001B[38;5;241m.\u001B[39mNormalize((\u001B[38;5;241m0.1307\u001B[39m,), (\u001B[38;5;241m0.3081\u001B[39m,))  \u001B[38;5;66;03m# 标准化\u001B[39;00m\n\u001B[0;32m     19\u001B[0m                                           ]))\n",
      "File \u001B[1;32mD:\\software\\anaconda\\envs\\pytorch-learn\\lib\\site-packages\\torchvision\\datasets\\mnist.py:104\u001B[0m, in \u001B[0;36mMNIST.__init__\u001B[1;34m(self, root, train, transform, target_transform, download)\u001B[0m\n\u001B[0;32m    101\u001B[0m \u001B[38;5;28;01mif\u001B[39;00m \u001B[38;5;129;01mnot\u001B[39;00m \u001B[38;5;28mself\u001B[39m\u001B[38;5;241m.\u001B[39m_check_exists():\n\u001B[0;32m    102\u001B[0m     \u001B[38;5;28;01mraise\u001B[39;00m \u001B[38;5;167;01mRuntimeError\u001B[39;00m(\u001B[38;5;124m\"\u001B[39m\u001B[38;5;124mDataset not found. You can use download=True to download it\u001B[39m\u001B[38;5;124m\"\u001B[39m)\n\u001B[1;32m--> 104\u001B[0m \u001B[38;5;28mself\u001B[39m\u001B[38;5;241m.\u001B[39mdata, \u001B[38;5;28mself\u001B[39m\u001B[38;5;241m.\u001B[39mtargets \u001B[38;5;241m=\u001B[39m \u001B[38;5;28;43mself\u001B[39;49m\u001B[38;5;241;43m.\u001B[39;49m\u001B[43m_load_data\u001B[49m\u001B[43m(\u001B[49m\u001B[43m)\u001B[49m\n",
      "File \u001B[1;32mD:\\software\\anaconda\\envs\\pytorch-learn\\lib\\site-packages\\torchvision\\datasets\\mnist.py:123\u001B[0m, in \u001B[0;36mMNIST._load_data\u001B[1;34m(self)\u001B[0m\n\u001B[0;32m    121\u001B[0m \u001B[38;5;28;01mdef\u001B[39;00m \u001B[38;5;21m_load_data\u001B[39m(\u001B[38;5;28mself\u001B[39m):\n\u001B[0;32m    122\u001B[0m     image_file \u001B[38;5;241m=\u001B[39m \u001B[38;5;124mf\u001B[39m\u001B[38;5;124m\"\u001B[39m\u001B[38;5;132;01m{\u001B[39;00m\u001B[38;5;124m'\u001B[39m\u001B[38;5;124mtrain\u001B[39m\u001B[38;5;124m'\u001B[39m \u001B[38;5;28;01mif\u001B[39;00m \u001B[38;5;28mself\u001B[39m\u001B[38;5;241m.\u001B[39mtrain \u001B[38;5;28;01melse\u001B[39;00m \u001B[38;5;124m'\u001B[39m\u001B[38;5;124mt10k\u001B[39m\u001B[38;5;124m'\u001B[39m\u001B[38;5;132;01m}\u001B[39;00m\u001B[38;5;124m-images-idx3-ubyte\u001B[39m\u001B[38;5;124m\"\u001B[39m\n\u001B[1;32m--> 123\u001B[0m     data \u001B[38;5;241m=\u001B[39m \u001B[43mread_image_file\u001B[49m\u001B[43m(\u001B[49m\u001B[43mos\u001B[49m\u001B[38;5;241;43m.\u001B[39;49m\u001B[43mpath\u001B[49m\u001B[38;5;241;43m.\u001B[39;49m\u001B[43mjoin\u001B[49m\u001B[43m(\u001B[49m\u001B[38;5;28;43mself\u001B[39;49m\u001B[38;5;241;43m.\u001B[39;49m\u001B[43mraw_folder\u001B[49m\u001B[43m,\u001B[49m\u001B[43m \u001B[49m\u001B[43mimage_file\u001B[49m\u001B[43m)\u001B[49m\u001B[43m)\u001B[49m\n\u001B[0;32m    125\u001B[0m     label_file \u001B[38;5;241m=\u001B[39m \u001B[38;5;124mf\u001B[39m\u001B[38;5;124m\"\u001B[39m\u001B[38;5;132;01m{\u001B[39;00m\u001B[38;5;124m'\u001B[39m\u001B[38;5;124mtrain\u001B[39m\u001B[38;5;124m'\u001B[39m \u001B[38;5;28;01mif\u001B[39;00m \u001B[38;5;28mself\u001B[39m\u001B[38;5;241m.\u001B[39mtrain \u001B[38;5;28;01melse\u001B[39;00m \u001B[38;5;124m'\u001B[39m\u001B[38;5;124mt10k\u001B[39m\u001B[38;5;124m'\u001B[39m\u001B[38;5;132;01m}\u001B[39;00m\u001B[38;5;124m-labels-idx1-ubyte\u001B[39m\u001B[38;5;124m\"\u001B[39m\n\u001B[0;32m    126\u001B[0m     targets \u001B[38;5;241m=\u001B[39m read_label_file(os\u001B[38;5;241m.\u001B[39mpath\u001B[38;5;241m.\u001B[39mjoin(\u001B[38;5;28mself\u001B[39m\u001B[38;5;241m.\u001B[39mraw_folder, label_file))\n",
      "File \u001B[1;32mD:\\software\\anaconda\\envs\\pytorch-learn\\lib\\site-packages\\torchvision\\datasets\\mnist.py:544\u001B[0m, in \u001B[0;36mread_image_file\u001B[1;34m(path)\u001B[0m\n\u001B[0;32m    543\u001B[0m \u001B[38;5;28;01mdef\u001B[39;00m \u001B[38;5;21mread_image_file\u001B[39m(path: \u001B[38;5;28mstr\u001B[39m) \u001B[38;5;241m-\u001B[39m\u001B[38;5;241m>\u001B[39m torch\u001B[38;5;241m.\u001B[39mTensor:\n\u001B[1;32m--> 544\u001B[0m     x \u001B[38;5;241m=\u001B[39m \u001B[43mread_sn3_pascalvincent_tensor\u001B[49m\u001B[43m(\u001B[49m\u001B[43mpath\u001B[49m\u001B[43m,\u001B[49m\u001B[43m \u001B[49m\u001B[43mstrict\u001B[49m\u001B[38;5;241;43m=\u001B[39;49m\u001B[38;5;28;43;01mFalse\u001B[39;49;00m\u001B[43m)\u001B[49m\n\u001B[0;32m    545\u001B[0m     \u001B[38;5;28;01mif\u001B[39;00m x\u001B[38;5;241m.\u001B[39mdtype \u001B[38;5;241m!=\u001B[39m torch\u001B[38;5;241m.\u001B[39muint8:\n\u001B[0;32m    546\u001B[0m         \u001B[38;5;28;01mraise\u001B[39;00m \u001B[38;5;167;01mTypeError\u001B[39;00m(\u001B[38;5;124mf\u001B[39m\u001B[38;5;124m\"\u001B[39m\u001B[38;5;124mx should be of dtype torch.uint8 instead of \u001B[39m\u001B[38;5;132;01m{\u001B[39;00mx\u001B[38;5;241m.\u001B[39mdtype\u001B[38;5;132;01m}\u001B[39;00m\u001B[38;5;124m\"\u001B[39m)\n",
      "File \u001B[1;32mD:\\software\\anaconda\\envs\\pytorch-learn\\lib\\site-packages\\torchvision\\datasets\\mnist.py:514\u001B[0m, in \u001B[0;36mread_sn3_pascalvincent_tensor\u001B[1;34m(path, strict)\u001B[0m\n\u001B[0;32m    512\u001B[0m     data \u001B[38;5;241m=\u001B[39m f\u001B[38;5;241m.\u001B[39mread()\n\u001B[0;32m    513\u001B[0m \u001B[38;5;66;03m# parse\u001B[39;00m\n\u001B[1;32m--> 514\u001B[0m magic \u001B[38;5;241m=\u001B[39m \u001B[43mget_int\u001B[49m\u001B[43m(\u001B[49m\u001B[43mdata\u001B[49m\u001B[43m[\u001B[49m\u001B[38;5;241;43m0\u001B[39;49m\u001B[43m:\u001B[49m\u001B[38;5;241;43m4\u001B[39;49m\u001B[43m]\u001B[49m\u001B[43m)\u001B[49m\n\u001B[0;32m    515\u001B[0m nd \u001B[38;5;241m=\u001B[39m magic \u001B[38;5;241m%\u001B[39m \u001B[38;5;241m256\u001B[39m\n\u001B[0;32m    516\u001B[0m ty \u001B[38;5;241m=\u001B[39m magic \u001B[38;5;241m/\u001B[39m\u001B[38;5;241m/\u001B[39m \u001B[38;5;241m256\u001B[39m\n",
      "File \u001B[1;32mD:\\software\\anaconda\\envs\\pytorch-learn\\lib\\site-packages\\torchvision\\datasets\\mnist.py:493\u001B[0m, in \u001B[0;36mget_int\u001B[1;34m(b)\u001B[0m\n\u001B[0;32m    492\u001B[0m \u001B[38;5;28;01mdef\u001B[39;00m \u001B[38;5;21mget_int\u001B[39m(b: \u001B[38;5;28mbytes\u001B[39m) \u001B[38;5;241m-\u001B[39m\u001B[38;5;241m>\u001B[39m \u001B[38;5;28mint\u001B[39m:\n\u001B[1;32m--> 493\u001B[0m     \u001B[38;5;28;01mreturn\u001B[39;00m \u001B[38;5;28;43mint\u001B[39;49m\u001B[43m(\u001B[49m\u001B[43mcodecs\u001B[49m\u001B[38;5;241;43m.\u001B[39;49m\u001B[43mencode\u001B[49m\u001B[43m(\u001B[49m\u001B[43mb\u001B[49m\u001B[43m,\u001B[49m\u001B[43m \u001B[49m\u001B[38;5;124;43m\"\u001B[39;49m\u001B[38;5;124;43mhex\u001B[39;49m\u001B[38;5;124;43m\"\u001B[39;49m\u001B[43m)\u001B[49m\u001B[43m,\u001B[49m\u001B[43m \u001B[49m\u001B[38;5;241;43m16\u001B[39;49m\u001B[43m)\u001B[49m\n",
      "\u001B[1;31mValueError\u001B[0m: invalid literal for int() with base 16: b''"
     ]
    }
   ],
   "source": [
    "# download dataset\n",
    "from torch.utils.data import DataLoader\n",
    "import torchvision\n",
    "\n",
    "import matplotlib.pyplot as plt\n",
    "import numpy as np\n",
    "import torch\n",
    "\n",
    "train_dataset = torchvision.datasets.MNIST(root=\"../../../assets/\", train=True, download=True,\n",
    "                                           transform=torchvision.transforms.Compose([\n",
    "                                               torchvision.transforms.ToTensor(),  # 转换成张量\n",
    "                                               torchvision.transforms.Normalize((0.1307,), (0.3081,))  # 标准化\n",
    "                                           ]))\n",
    "train_loader = DataLoader(train_dataset, batch_size=batch_size)\n",
    "test_dataset = torchvision.datasets.MNIST(root=\"../../../assets/\", train=False, download=True,\n",
    "                                          transform=torchvision.transforms.Compose([\n",
    "                                              torchvision.transforms.ToTensor(),  # 转换成张量\n",
    "                                              torchvision.transforms.Normalize((0.1307,), (0.3081,))  # 标准化\n",
    "                                          ]))\n",
    "test_loader = DataLoader(test_dataset, batch_size=batch_size)"
   ],
   "metadata": {
    "collapsed": false
   }
  },
  {
   "cell_type": "code",
   "execution_count": 124,
   "outputs": [
    {
     "data": {
      "text/plain": "<Figure size 500x500 with 9 Axes>",
      "image/png": "[encoded data removed]"
     },
     "metadata": {},
     "output_type": "display_data"
    }
   ],
   "source": [
    "fig, axs = plt.subplots(nrows=3, ncols=3, figsize=(5, 5))\n",
    "for i, (x, y) in enumerate(train_loader):\n",
    "    if i == 0:\n",
    "        for j in range(9):\n",
    "            idx, idy = int(j / 3), j % 3\n",
    "            axs[idx][idy].imshow(x[j].reshape((28, 28)), cmap=\"gray\")\n",
    "            axs[idx][idy].axis('off')\n",
    "            axs[idx][idy].set_title(y[j].item())\n",
    "    else:\n",
    "        break"
   ],
   "metadata": {
    "collapsed": false
   }
  },
  {
   "cell_type": "code",
   "execution_count": 125,
   "outputs": [],
   "source": [
    "# 将预测数字和标签转为one-hot decoding的概率向量10*1"
   ],
   "metadata": {
    "collapsed": false
   }
  },
  {
   "cell_type": "code",
   "execution_count": 126,
   "outputs": [],
   "source": [
    "from torch import nn\n",
    "import torch.nn.functional as F\n",
    "\n",
    "\n",
    "class MnistClassificationModel(nn.Module):\n",
    "    def __init__(self):\n",
    "        super().__init__()\n",
    "        self.hidden1 = nn.Linear(28 * 28, 128)\n",
    "        self.hidden2 = nn.Linear(128, 256)\n",
    "        self.out = nn.Linear(256, 10)\n",
    "\n",
    "    def forward(self, x):\n",
    "        x = F.relu(self.hidden1(x))\n",
    "        x = F.relu(self.hidden2(x))\n",
    "        x = self.out(x)\n",
    "        return x"
   ],
   "metadata": {
    "collapsed": false
   }
  },
  {
   "cell_type": "code",
   "execution_count": 127,
   "outputs": [
    {
     "name": "stdout",
     "output_type": "stream",
     "text": [
      "MnistClassificationModel(\n",
      "  (hidden1): Linear(in_features=784, out_features=128, bias=True)\n",
      "  (hidden2): Linear(in_features=128, out_features=256, bias=True)\n",
      "  (out): Linear(in_features=256, out_features=10, bias=True)\n",
      ")\n",
      "hidden1.weight Parameter containing:\n",
      "tensor([[-0.0094, -0.0234, -0.0148,  ...,  0.0041, -0.0247, -0.0145],\n",
      "        [-0.0299, -0.0160, -0.0316,  ...,  0.0316, -0.0146,  0.0118],\n",
      "        [-0.0075,  0.0207,  0.0044,  ...,  0.0191, -0.0315, -0.0326],\n",
      "        ...,\n",
      "        [ 0.0286,  0.0199, -0.0257,  ...,  0.0221,  0.0210,  0.0237],\n",
      "        [-0.0232,  0.0318, -0.0283,  ..., -0.0288,  0.0195,  0.0300],\n",
      "        [ 0.0077,  0.0167,  0.0054,  ..., -0.0050, -0.0049,  0.0280]],\n",
      "       requires_grad=True)\n",
      "hidden1.bias Parameter containing:\n",
      "tensor([-1.9757e-03,  1.9290e-02,  2.8761e-02, -1.1444e-02,  1.2169e-02,\n",
      "        -2.7994e-03, -6.9148e-03,  2.5439e-02,  3.5351e-02,  2.3501e-03,\n",
      "         3.3446e-02, -2.4387e-02, -2.7934e-02, -1.5172e-02,  3.1243e-02,\n",
      "        -8.3450e-03, -2.7332e-02,  9.1400e-03,  1.3184e-02,  1.8077e-03,\n",
      "         2.0837e-02,  1.8091e-02,  1.0732e-02, -1.7360e-02, -2.6323e-02,\n",
      "         2.5807e-02, -1.9916e-02,  4.3164e-03, -2.8944e-02, -2.2364e-02,\n",
      "         1.0024e-02,  1.4167e-02, -4.9175e-03, -2.3826e-02, -1.2245e-02,\n",
      "        -6.4772e-03, -1.2484e-02,  2.7175e-02,  1.7308e-02, -2.7122e-02,\n",
      "         8.5420e-04, -2.7078e-02, -9.2787e-03, -2.1810e-02, -2.8111e-02,\n",
      "         4.2669e-03,  2.3193e-02,  1.2211e-02,  3.5108e-02,  6.4546e-04,\n",
      "        -3.5676e-02,  5.2160e-03,  2.9871e-02,  2.4528e-02,  2.0620e-02,\n",
      "        -1.7684e-02, -1.4387e-02, -2.1824e-03, -3.4786e-02, -9.2560e-03,\n",
      "        -2.7933e-02,  3.4015e-03, -1.6170e-02,  1.0436e-02, -3.2894e-02,\n",
      "         1.9022e-02,  8.6285e-05,  3.2152e-02,  2.1829e-02, -1.3889e-02,\n",
      "         7.7974e-05, -2.9752e-02,  3.0481e-02, -1.7954e-02, -1.4997e-02,\n",
      "        -9.2564e-03, -5.7515e-03,  8.7764e-03, -2.5474e-02, -7.2727e-03,\n",
      "         3.5267e-02,  2.2549e-02,  1.4765e-02, -7.7518e-03,  3.2310e-02,\n",
      "        -2.4183e-02,  5.3191e-03,  1.2740e-02, -1.4098e-02, -1.4453e-02,\n",
      "        -2.5126e-02,  2.6837e-02, -2.9457e-02, -3.2178e-02,  1.6034e-02,\n",
      "         3.1764e-02,  1.0555e-02,  2.6587e-02, -1.7804e-02, -2.4153e-02,\n",
      "         1.3073e-02, -2.0228e-02, -2.3727e-02,  4.8926e-03,  2.8303e-02,\n",
      "        -4.9137e-03, -1.8358e-02,  1.7084e-02,  9.4111e-03,  2.6649e-03,\n",
      "         1.9492e-02, -2.3969e-02, -2.9548e-02, -2.4558e-03,  3.3756e-02,\n",
      "         3.4823e-02,  3.5589e-03, -2.2757e-02, -4.0814e-03,  2.7810e-02,\n",
      "        -2.0441e-02,  3.1634e-02,  1.2043e-02, -1.0925e-02, -3.5583e-02,\n",
      "        -1.2085e-02, -4.9100e-03, -3.4305e-02], requires_grad=True)\n",
      "hidden2.weight Parameter containing:\n",
      "tensor([[ 0.0723, -0.0296,  0.0325,  ...,  0.0160,  0.0821,  0.0289],\n",
      "        [ 0.0792, -0.0250, -0.0649,  ..., -0.0609, -0.0272,  0.0753],\n",
      "        [ 0.0319,  0.0021,  0.0840,  ...,  0.0461, -0.0466,  0.0045],\n",
      "        ...,\n",
      "        [-0.0321,  0.0378,  0.0329,  ..., -0.0500,  0.0841, -0.0348],\n",
      "        [-0.0409, -0.0450, -0.0236,  ...,  0.0208,  0.0361, -0.0730],\n",
      "        [ 0.0619, -0.0049,  0.0109,  ..., -0.0055,  0.0593, -0.0389]],\n",
      "       requires_grad=True)\n",
      "hidden2.bias Parameter containing:\n",
      "tensor([-0.0200, -0.0793, -0.0779,  0.0124, -0.0785, -0.0764,  0.0474,  0.0629,\n",
      "        -0.0483, -0.0619, -0.0289, -0.0784,  0.0005,  0.0552,  0.0239, -0.0228,\n",
      "         0.0203, -0.0084, -0.0732,  0.0707,  0.0528,  0.0282, -0.0081,  0.0146,\n",
      "        -0.0839,  0.0046,  0.0560, -0.0693, -0.0408,  0.0383,  0.0611, -0.0311,\n",
      "        -0.0253,  0.0825, -0.0727,  0.0069,  0.0119,  0.0583, -0.0395, -0.0503,\n",
      "         0.0549, -0.0684,  0.0753, -0.0320, -0.0524,  0.0736,  0.0295, -0.0544,\n",
      "        -0.0873,  0.0689,  0.0763, -0.0861,  0.0072,  0.0248,  0.0746, -0.0471,\n",
      "        -0.0564, -0.0022,  0.0012, -0.0617,  0.0181, -0.0441,  0.0172, -0.0777,\n",
      "         0.0578,  0.0042, -0.0283,  0.0007, -0.0337,  0.0005,  0.0862,  0.0112,\n",
      "        -0.0288, -0.0075, -0.0496, -0.0306, -0.0455, -0.0299,  0.0388,  0.0022,\n",
      "        -0.0479, -0.0246,  0.0529,  0.0770,  0.0141,  0.0499,  0.0182, -0.0747,\n",
      "        -0.0152,  0.0419,  0.0560,  0.0404, -0.0410,  0.0700, -0.0039,  0.0505,\n",
      "        -0.0652, -0.0399,  0.0864,  0.0786,  0.0362,  0.0082,  0.0714, -0.0658,\n",
      "         0.0314, -0.0415, -0.0477,  0.0793, -0.0250, -0.0286, -0.0119, -0.0282,\n",
      "        -0.0427,  0.0768,  0.0292, -0.0182, -0.0002,  0.0106, -0.0099, -0.0391,\n",
      "         0.0735,  0.0210, -0.0039, -0.0140,  0.0060,  0.0751,  0.0062, -0.0419,\n",
      "        -0.0876,  0.0840, -0.0310,  0.0543, -0.0445,  0.0184, -0.0214, -0.0883,\n",
      "         0.0741, -0.0669, -0.0323, -0.0714,  0.0255,  0.0396,  0.0466,  0.0158,\n",
      "        -0.0408, -0.0384, -0.0242, -0.0136,  0.0193,  0.0746,  0.0202, -0.0103,\n",
      "        -0.0324,  0.0867,  0.0518, -0.0169, -0.0584, -0.0084, -0.0601, -0.0272,\n",
      "        -0.0799, -0.0670,  0.0846,  0.0280,  0.0019,  0.0509,  0.0203,  0.0184,\n",
      "         0.0776,  0.0589,  0.0521, -0.0120, -0.0243,  0.0819, -0.0176,  0.0082,\n",
      "        -0.0684,  0.0396,  0.0545, -0.0081,  0.0092, -0.0062,  0.0785, -0.0817,\n",
      "        -0.0094,  0.0673,  0.0761, -0.0651,  0.0406, -0.0777,  0.0010, -0.0610,\n",
      "        -0.0327,  0.0643, -0.0808, -0.0327,  0.0481, -0.0814,  0.0448, -0.0876,\n",
      "        -0.0218, -0.0726, -0.0072,  0.0756, -0.0261, -0.0832,  0.0478, -0.0482,\n",
      "         0.0283,  0.0348, -0.0344, -0.0100, -0.0405, -0.0016, -0.0175,  0.0705,\n",
      "        -0.0415,  0.0062, -0.0430,  0.0212,  0.0052,  0.0550, -0.0015, -0.0492,\n",
      "        -0.0701,  0.0826,  0.0662,  0.0672,  0.0602,  0.0669,  0.0010, -0.0136,\n",
      "        -0.0838,  0.0793, -0.0288,  0.0523, -0.0759,  0.0313, -0.0418, -0.0112,\n",
      "         0.0354,  0.0335,  0.0832,  0.0588,  0.0240,  0.0193, -0.0602,  0.0794,\n",
      "         0.0098,  0.0158,  0.0873,  0.0194,  0.0312,  0.0793,  0.0516, -0.0202],\n",
      "       requires_grad=True)\n",
      "out.weight Parameter containing:\n",
      "tensor([[-0.0291, -0.0057,  0.0577,  ...,  0.0320, -0.0140, -0.0056],\n",
      "        [-0.0116,  0.0157,  0.0002,  ..., -0.0023,  0.0246, -0.0412],\n",
      "        [-0.0193,  0.0435,  0.0621,  ...,  0.0100,  0.0008,  0.0413],\n",
      "        ...,\n",
      "        [-0.0408, -0.0171, -0.0304,  ..., -0.0547,  0.0434, -0.0194],\n",
      "        [ 0.0578,  0.0298,  0.0290,  ...,  0.0156,  0.0218, -0.0563],\n",
      "        [-0.0137,  0.0223,  0.0389,  ...,  0.0507, -0.0352,  0.0546]],\n",
      "       requires_grad=True)\n",
      "out.bias Parameter containing:\n",
      "tensor([-0.0279,  0.0403, -0.0278, -0.0439, -0.0201, -0.0621, -0.0425,  0.0452,\n",
      "        -0.0082, -0.0134], requires_grad=True)\n"
     ]
    }
   ],
   "source": [
    "# display model\n",
    "model = MnistClassificationModel()\n",
    "print(model)\n",
    "\n",
    "for name, param in model.named_parameters():\n",
    "    print(name, param)"
   ],
   "metadata": {
    "collapsed": false
   }
  },
  {
   "cell_type": "code",
   "execution_count": 128,
   "outputs": [],
   "source": [
    "# optimizer & cost function\n",
    "optimizer = torch.optim.SGD(model.parameters(), lr=learning_rate)\n",
    "cost = F.cross_entropy"
   ],
   "metadata": {
    "collapsed": false
   }
  },
  {
   "cell_type": "code",
   "execution_count": 129,
   "outputs": [],
   "source": [
    "# device\n",
    "use_cuda = torch.cuda.is_available()\n",
    "device = \"cuda:0\" if torch.cuda.is_available() else \"cpu\"\n",
    "model = model.to(device)"
   ],
   "metadata": {
    "collapsed": false
   }
  },
  {
   "cell_type": "code",
   "execution_count": 130,
   "outputs": [
    {
     "name": "stdout",
     "output_type": "stream",
     "text": [
      "\tepoch=0, 0/60000,loss=2.2829911708831787\n",
      "\tepoch=0, 6400/60000,loss=2.2788710594177246\n",
      "\tepoch=0, 12800/60000,loss=2.263557195663452\n",
      "\tepoch=0, 19200/60000,loss=2.249511241912842\n",
      "\tepoch=0, 25600/60000,loss=2.232710599899292\n",
      "\tepoch=0, 32000/60000,loss=2.215754985809326\n",
      "\tepoch=0, 38400/60000,loss=2.1965584754943848\n",
      "\tepoch=0, 44800/60000,loss=2.1759707927703857\n",
      "\tepoch=0, 51200/60000,loss=2.1525979042053223\n",
      "\tepoch=0, 57600/60000,loss=2.125864267349243\n",
      "\tepoch=1, 0/60000,loss=1.8248709440231323\n",
      "\tepoch=1, 6400/60000,loss=1.793212890625\n",
      "\tepoch=1, 12800/60000,loss=1.7522695064544678\n",
      "\tepoch=1, 19200/60000,loss=1.7173658609390259\n",
      "\tepoch=1, 25600/60000,loss=1.6684268712997437\n",
      "\tepoch=1, 32000/60000,loss=1.6266632080078125\n",
      "\tepoch=1, 38400/60000,loss=1.5812791585922241\n",
      "\tepoch=1, 44800/60000,loss=1.5370010137557983\n",
      "\tepoch=1, 51200/60000,loss=1.4932098388671875\n",
      "\tepoch=1, 57600/60000,loss=1.4480831623077393\n",
      "\tepoch=2, 0/60000,loss=1.0731754302978516\n",
      "\tepoch=2, 6400/60000,loss=0.9880673289299011\n",
      "\tepoch=2, 12800/60000,loss=0.9717512130737305\n",
      "\tepoch=2, 19200/60000,loss=0.9608433246612549\n",
      "\tepoch=2, 25600/60000,loss=0.9312642812728882\n",
      "\tepoch=2, 32000/60000,loss=0.9148281216621399\n",
      "\tepoch=2, 38400/60000,loss=0.8947185277938843\n",
      "\tepoch=2, 44800/60000,loss=0.875777542591095\n",
      "\tepoch=2, 51200/60000,loss=0.8587741255760193\n",
      "\tepoch=2, 57600/60000,loss=0.8384092450141907\n",
      "\tepoch=3, 0/60000,loss=0.7373343110084534\n",
      "\tepoch=3, 6400/60000,loss=0.6461412310600281\n",
      "\tepoch=3, 12800/60000,loss=0.6502125263214111\n",
      "\tepoch=3, 19200/60000,loss=0.6548912525177002\n",
      "\tepoch=3, 25600/60000,loss=0.6402003169059753\n",
      "\tepoch=3, 32000/60000,loss=0.6373077630996704\n",
      "\tepoch=3, 38400/60000,loss=0.6294610500335693\n",
      "\tepoch=3, 44800/60000,loss=0.62211012840271\n",
      "\tepoch=3, 51200/60000,loss=0.616455614566803\n",
      "\tepoch=3, 57600/60000,loss=0.6058390140533447\n",
      "\tepoch=4, 0/60000,loss=0.5859121084213257\n",
      "\tepoch=4, 6400/60000,loss=0.5087957978248596\n",
      "\tepoch=4, 12800/60000,loss=0.5193625092506409\n",
      "\tepoch=4, 19200/60000,loss=0.5282226800918579\n",
      "\tepoch=4, 25600/60000,loss=0.5182346105575562\n",
      "\tepoch=4, 32000/60000,loss=0.5194076895713806\n",
      "\tepoch=4, 38400/60000,loss=0.5150772929191589\n",
      "\tepoch=4, 44800/60000,loss=0.5115023255348206\n",
      "\tepoch=4, 51200/60000,loss=0.5095446705818176\n",
      "\tepoch=4, 57600/60000,loss=0.5021906495094299\n",
      "\tepoch=5, 0/60000,loss=0.4942440688610077\n",
      "\tepoch=5, 6400/60000,loss=0.4358338713645935\n",
      "\tepoch=5, 12800/60000,loss=0.44926172494888306\n",
      "\tepoch=5, 19200/60000,loss=0.4594388008117676\n",
      "\tepoch=5, 25600/60000,loss=0.45164892077445984\n",
      "\tepoch=5, 32000/60000,loss=0.45458006858825684\n",
      "\tepoch=5, 38400/60000,loss=0.4516398310661316\n",
      "\tepoch=5, 44800/60000,loss=0.44974955916404724\n",
      "\tepoch=5, 51200/60000,loss=0.4494364857673645\n",
      "\tepoch=5, 57600/60000,loss=0.44363972544670105\n",
      "\tepoch=6, 0/60000,loss=0.4318149983882904\n",
      "\tepoch=6, 6400/60000,loss=0.3910562992095947\n",
      "\tepoch=6, 12800/60000,loss=0.4060041904449463\n",
      "\tepoch=6, 19200/60000,loss=0.41644856333732605\n",
      "\tepoch=6, 25600/60000,loss=0.4099801778793335\n",
      "\tepoch=6, 32000/60000,loss=0.41380366683006287\n",
      "\tepoch=6, 38400/60000,loss=0.41153091192245483\n",
      "\tepoch=6, 44800/60000,loss=0.4105013906955719\n",
      "\tepoch=6, 51200/60000,loss=0.41106027364730835\n",
      "\tepoch=6, 57600/60000,loss=0.4061543345451355\n",
      "\tepoch=7, 0/60000,loss=0.38676899671554565\n",
      "\tepoch=7, 6400/60000,loss=0.36095017194747925\n",
      "\tepoch=7, 12800/60000,loss=0.3768113851547241\n",
      "\tepoch=7, 19200/60000,loss=0.3871038854122162\n",
      "\tepoch=7, 25600/60000,loss=0.3815457224845886\n",
      "\tepoch=7, 32000/60000,loss=0.3858325779438019\n",
      "\tepoch=7, 38400/60000,loss=0.38391855359077454\n",
      "\tepoch=7, 44800/60000,loss=0.3833543360233307\n",
      "\tepoch=7, 51200/60000,loss=0.3844220042228699\n",
      "\tepoch=7, 57600/60000,loss=0.380075603723526\n",
      "\tepoch=8, 0/60000,loss=0.3526831269264221\n",
      "\tepoch=8, 6400/60000,loss=0.3392501175403595\n",
      "\tepoch=8, 12800/60000,loss=0.3557030260562897\n",
      "\tepoch=8, 19200/60000,loss=0.3656938076019287\n",
      "\tepoch=8, 25600/60000,loss=0.3608028292655945\n",
      "\tepoch=8, 32000/60000,loss=0.3653213083744049\n",
      "\tepoch=8, 38400/60000,loss=0.36361953616142273\n",
      "\tepoch=8, 44800/60000,loss=0.36331820487976074\n",
      "\tepoch=8, 51200/60000,loss=0.36469611525535583\n",
      "\tepoch=8, 57600/60000,loss=0.36072126030921936\n",
      "\tepoch=9, 0/60000,loss=0.32595258951187134\n",
      "\tepoch=9, 6400/60000,loss=0.3226897120475769\n",
      "\tepoch=9, 12800/60000,loss=0.33954760432243347\n",
      "\tepoch=9, 19200/60000,loss=0.34920254349708557\n",
      "\tepoch=9, 25600/60000,loss=0.3448215425014496\n",
      "\tepoch=9, 32000/60000,loss=0.3494333326816559\n",
      "\tepoch=9, 38400/60000,loss=0.3478682041168213\n",
      "\tepoch=9, 44800/60000,loss=0.3477219343185425\n",
      "\tepoch=9, 51200/60000,loss=0.3492974042892456\n",
      "\tepoch=9, 57600/60000,loss=0.3455800414085388\n"
     ]
    }
   ],
   "source": [
    "# train\n",
    "def train():\n",
    "    model.train()\n",
    "    for epoch in range(epochs):\n",
    "        batch_loss = []\n",
    "        for batch_id, (batch_x, batch_y) in enumerate(train_loader):\n",
    "            batch_x = batch_x.to(device)\n",
    "            batch_y = batch_y.to(device)\n",
    "\n",
    "            batch_x = batch_x.reshape(len(batch_x), 28 * 28)\n",
    "\n",
    "            optimizer.zero_grad()  # 梯度清零\n",
    "            output = model(batch_x)  # 前向传播\n",
    "            loss = cost(output, batch_y)  # 计算代价函数\n",
    "            loss.backward()  #反向传播\n",
    "            optimizer.step()  #更新\n",
    "            if use_cuda:\n",
    "                batch_loss.append(loss.data.cpu().numpy())\n",
    "            else:\n",
    "                batch_loss.append(loss.data.numpy())\n",
    "\n",
    "            if batch_id % 100 == 0 and len(batch_x) == batch_size:\n",
    "                print(\n",
    "                    f\"\\tepoch={epoch}, {batch_id * batch_size}/{len(train_loader.dataset)},loss={np.mean(batch_loss)}\")\n",
    "\n",
    "train()"
   ],
   "metadata": {
    "collapsed": false
   }
  },
  {
   "cell_type": "code",
   "execution_count": 133,
   "outputs": [
    {
     "name": "stdout",
     "output_type": "stream",
     "text": [
      "accuracy=0.907800018787384\n"
     ]
    }
   ],
   "source": [
    "# test\n",
    "def test():\n",
    "    model.eval()\n",
    "    test_loss = 0\n",
    "    correct = 0\n",
    "\n",
    "    with torch.no_grad():\n",
    "        for (test_x, test_y) in test_loader:\n",
    "            test_x = test_x.to(device)\n",
    "            test_y = test_y.to(device)\n",
    "\n",
    "            test_x = test_x.reshape(len(test_x), 28 * 28)\n",
    "            output = model(test_x)\n",
    "            pred = output.data.max(1, keepdim=True)[1]\n",
    "            correct += pred.eq(test_y.data.view_as(pred)).sum()\n",
    "\n",
    "    print(f\"accuracy={correct / len(test_loader.dataset)}\")\n",
    "\n",
    "\n",
    "test()"
   ],
   "metadata": {
    "collapsed": false
   }
  },
  {
   "cell_type": "code",
   "execution_count": 134,
   "outputs": [
    {
     "data": {
      "text/plain": "<Figure size 800x800 with 9 Axes>",
      "image/png": "[encoded data removed]"
     },
     "metadata": {},
     "output_type": "display_data"
    }
   ],
   "source": [
    "# visualize\n",
    "fig, axs = plt.subplots(nrows=3, ncols=3, figsize=(8, 8))\n",
    "\n",
    "for i, (test_x, test_y) in enumerate(test_loader):\n",
    "    test_x = test_x.to(device)\n",
    "    test_y = test_y.to(device)\n",
    "\n",
    "    test_x = test_x.reshape(len(test_x), 28 * 28)\n",
    "    output = model(test_x)\n",
    "    pred = output.data.max(1, keepdim=True)[1]\n",
    "    if i == 0:\n",
    "        for j in range(9):\n",
    "            idx, idy = int(j / 3), j % 3\n",
    "            axs[idx][idy].imshow(test_x[j].reshape((28, 28)), cmap=\"gray\")\n",
    "            axs[idx][idy].axis('off')\n",
    "            axs[idx][idy].set_title(f\"pred={pred[j].item()}, actual={test_y[j].item()}\")\n",
    "    else:\n",
    "        break"
   ],
   "metadata": {
    "collapsed": false
   }
  }
 ],
 "metadata": {
  "kernelspec": {
   "display_name": "Python 3",
   "language": "python",
   "name": "python3"
  },
  "language_info": {
   "codemirror_mode": {
    "name": "ipython",
    "version": 2
   },
   "file_extension": ".py",
   "mimetype": "text/x-python",
   "name": "python",
   "nbconvert_exporter": "python",
   "pygments_lexer": "ipython2",
   "version": "2.7.6"
  }
 },
 "nbformat": 4,
 "nbformat_minor": 0
}
